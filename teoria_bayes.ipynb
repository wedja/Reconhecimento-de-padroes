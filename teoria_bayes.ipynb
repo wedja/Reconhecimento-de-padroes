{
 "cells": [
  {
   "cell_type": "code",
   "execution_count": 3,
   "metadata": {},
   "outputs": [],
   "source": [
    "import numpy as np \n",
    "\n",
    "#Definindo uma semente geradora de número aleatória\n",
    "np.random.seed(123456)\n",
    "path_out = 'saidaSim.txt' #Caminho do arquivo a ser gerado\n",
    "\n",
    "#Parametrização das distribuições gauss. mult. usadas\n",
    "mu1 = [1.0, 1.0]; Sigma1 = [[0.75, 0.5], [0.5,2.0]]\n",
    "rotulo1 = 1; qnt1 = 50\n",
    "mu2 = [-2.0, 2.0]; Sigma2 = [[0.5, -0.5], [-0.5, 1]]\n",
    "rotulo2 = 2; qnt2 = 40\n",
    "\n",
    "#Construção de arrays de parametros/rotulos/quantidades\n",
    "conjMu = np.array([mu1,mu2])\n",
    "conjSigma = np.array([Sigma1, Sigma2])\n",
    "rotulos = np.array([rotulo1,rotulo2])\n",
    "quantidades = np.array([qnt1, qnt2])\n",
    "\n",
    "#Geração de arquivo de saída\n",
    "f = open(path_out, 'w')\n",
    "for r in range(rotulos.size):\n",
    "    #Confira documentação da função multivariada_normal\n",
    "    #Transposição '.T' usada para fins de computalização\n",
    "    dados = np.random.multivariate_normal(conjMu[r,:], conjSigma[r,:,:], quantidades[r]).T\n",
    "\n",
    "    for i in range(0, quantidades[r]):\n",
    "        st = str(rotulos[r])\n",
    "        for j in range(0, dados.shape[0]):\n",
    "            st += ','+ str(dados[j,i])\n",
    "        st += '\\n' #Força continuação na próxima linha\n",
    "        f.write(st)\n",
    "\n",
    "f.close() #Encerra o processo de escrita dos dados"
   ]
  }
 ],
 "metadata": {
  "kernelspec": {
   "display_name": "padroes",
   "language": "python",
   "name": "python3"
  },
  "language_info": {
   "codemirror_mode": {
    "name": "ipython",
    "version": 3
   },
   "file_extension": ".py",
   "mimetype": "text/x-python",
   "name": "python",
   "nbconvert_exporter": "python",
   "pygments_lexer": "ipython3",
   "version": "3.11.7"
  }
 },
 "nbformat": 4,
 "nbformat_minor": 2
}
